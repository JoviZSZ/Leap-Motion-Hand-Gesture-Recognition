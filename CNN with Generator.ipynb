{
 "cells": [
  {
   "cell_type": "code",
   "execution_count": 1,
   "metadata": {},
   "outputs": [],
   "source": [
    "import numpy as np\n",
    "import matplotlib.pyplot as plt\n",
    "from matplotlib import style\n",
    "%matplotlib inline\n",
    "%config InlineBackend.figure_format = 'retina'\n",
    "plt.rcParams[\"axes.grid\"] = False\n",
    "# style.use('fivethirtyeight')\n",
    "# sns.set(style='whitegrid',color_codes=True)\n",
    "                 \n",
    "import os   \n",
    "import tensorflow as tf\n",
    "import numpy as np \n",
    "import cv2"
   ]
  },
  {
   "cell_type": "code",
   "execution_count": 2,
   "metadata": {},
   "outputs": [],
   "source": [
    "from tensorflow.keras import backend as K\n",
    "from tensorflow.keras.layers import Dense, Dropout, Activation, Flatten\n",
    "from tensorflow.keras.layers import Conv2D, MaxPooling2D, UpSampling2D, InputLayer\n",
    "from sklearn.model_selection import train_test_split\n",
    "from tensorflow.keras.utils import to_categorical\n",
    "\n",
    "from tensorflow.keras import Model\n",
    "from tensorflow.keras.models import Sequential\n",
    "from tensorflow.keras.losses import categorical_crossentropy\n",
    "from tensorflow.keras.layers import Dense, Flatten, AveragePooling2D"
   ]
  },
  {
   "cell_type": "code",
   "execution_count": 3,
   "metadata": {},
   "outputs": [],
   "source": [
    "from tensorflow import keras\n",
    "from tensorflow.keras import layers"
   ]
  },
  {
   "cell_type": "code",
   "execution_count": 4,
   "metadata": {},
   "outputs": [],
   "source": [
    "x_all = np.load('x_seg.npy')\n",
    "y_all = np.load('y_total.npy')"
   ]
  },
  {
   "cell_type": "code",
   "execution_count": 5,
   "metadata": {},
   "outputs": [],
   "source": [
    "# normalization\n",
    "for i in range(x_all.shape[0]):\n",
    "    x_all[i] =  x_all[i] / 255\n",
    "y_all = to_categorical(y_all)"
   ]
  },
  {
   "cell_type": "code",
   "execution_count": 6,
   "metadata": {},
   "outputs": [
    {
     "name": "stdout",
     "output_type": "stream",
     "text": [
      "(40000, 224, 224)\n",
      "(40000, 10)\n"
     ]
    }
   ],
   "source": [
    "print(x_all.shape)\n",
    "print(y_all.shape)"
   ]
  },
  {
   "cell_type": "code",
   "execution_count": 7,
   "metadata": {},
   "outputs": [],
   "source": [
    "from sklearn.model_selection import train_test_split\n",
    "x_train,x_further,y_train,y_further = train_test_split(x_all,y_all,test_size = 0.2)\n",
    "x_validate,x_test,y_validate,y_test = train_test_split(x_further,y_further,test_size = 0.5)"
   ]
  },
  {
   "cell_type": "code",
   "execution_count": 8,
   "metadata": {},
   "outputs": [],
   "source": [
    "x_train = x_train.reshape((x_train.shape[0],x_train.shape[1],x_train.shape[2],1))\n",
    "x_validate = x_validate.reshape((x_validate.shape[0],x_validate.shape[1],x_validate.shape[2],1))\n",
    "x_test = x_test.reshape((x_test.shape[0],x_test.shape[1],x_test.shape[2],1))"
   ]
  },
  {
   "cell_type": "code",
   "execution_count": 9,
   "metadata": {},
   "outputs": [],
   "source": [
    "model = keras.Sequential(name=\"my_sequential\")\n",
    "model.add(layers.Conv2D(filters=16,kernel_size=(3,3),activation='relu',input_shape=(224,224,1)))\n",
    "# model.add(layers.Conv2D(filters=16,kernel_size=(3,3),activation='relu'))\n",
    "model.add(layers.MaxPool2D(pool_size=(2,2),strides=(2,2)))\n",
    "# model.add(layers.Conv2D(filters=32,kernel_size=(3,3),activation='relu'))\n",
    "model.add(layers.Conv2D(filters=32,kernel_size=(3,3),activation='relu'))\n",
    "model.add(layers.MaxPool2D(pool_size=(2,2),strides=(2,2)))\n",
    "model.add(layers.Flatten())\n",
    "# model.add(layers.Dense(units=128,activation='relu'))\n",
    "model.add(layers.Dense(units=128,activation='relu'))\n",
    "model.add(layers.Dense(units=10,activation='softmax'))"
   ]
  },
  {
   "cell_type": "markdown",
   "metadata": {},
   "source": [
    "### Image Generator"
   ]
  },
  {
   "cell_type": "code",
   "execution_count": 10,
   "metadata": {},
   "outputs": [],
   "source": [
    "datagen = tf.keras.preprocessing.image.ImageDataGenerator(\n",
    "    width_shift_range=0.15,\n",
    "    height_shift_range=0.15,\n",
    "    horizontal_flip=True)"
   ]
  },
  {
   "cell_type": "code",
   "execution_count": 11,
   "metadata": {},
   "outputs": [],
   "source": [
    "datagen.fit(x_train[::100,:,:])"
   ]
  },
  {
   "cell_type": "code",
   "execution_count": 12,
   "metadata": {
    "scrolled": true
   },
   "outputs": [
    {
     "name": "stdout",
     "output_type": "stream",
     "text": [
      "WARNING:tensorflow:sample_weight modes were coerced from\n",
      "  ...\n",
      "    to  \n",
      "  ['...']\n",
      "Train for 320 steps, validate on 4000 samples\n",
      "Epoch 1/20\n",
      "320/320 [==============================] - 126s 393ms/step - loss: 1.1462 - accuracy: 0.6097 - val_loss: 0.5304 - val_accuracy: 0.8192\n",
      "Epoch 2/20\n",
      "320/320 [==============================] - 124s 388ms/step - loss: 0.4266 - accuracy: 0.8718 - val_loss: 0.2613 - val_accuracy: 0.9130\n",
      "Epoch 3/20\n",
      "320/320 [==============================] - 124s 388ms/step - loss: 0.2883 - accuracy: 0.9151 - val_loss: 0.1855 - val_accuracy: 0.9435\n",
      "Epoch 4/20\n",
      "320/320 [==============================] - 123s 385ms/step - loss: 0.2263 - accuracy: 0.9342 - val_loss: 0.1845 - val_accuracy: 0.9408\n",
      "Epoch 5/20\n",
      "320/320 [==============================] - 124s 388ms/step - loss: 0.1865 - accuracy: 0.9468 - val_loss: 0.1157 - val_accuracy: 0.9630\n",
      "Epoch 6/20\n",
      "320/320 [==============================] - 124s 388ms/step - loss: 0.1649 - accuracy: 0.9515 - val_loss: 0.1153 - val_accuracy: 0.9647\n",
      "Epoch 7/20\n",
      "320/320 [==============================] - 124s 387ms/step - loss: 0.1429 - accuracy: 0.9589 - val_loss: 0.0945 - val_accuracy: 0.9712\n",
      "Epoch 8/20\n",
      "320/320 [==============================] - 125s 389ms/step - loss: 0.1292 - accuracy: 0.9621 - val_loss: 0.0729 - val_accuracy: 0.9805\n",
      "Epoch 9/20\n",
      "320/320 [==============================] - 125s 390ms/step - loss: 0.1189 - accuracy: 0.9650 - val_loss: 0.0906 - val_accuracy: 0.9732\n",
      "Epoch 10/20\n",
      "320/320 [==============================] - 124s 386ms/step - loss: 0.1150 - accuracy: 0.9664 - val_loss: 0.0702 - val_accuracy: 0.9797\n",
      "Epoch 11/20\n",
      "320/320 [==============================] - 127s 398ms/step - loss: 0.1048 - accuracy: 0.9693 - val_loss: 0.0678 - val_accuracy: 0.9758\n",
      "Epoch 12/20\n",
      "320/320 [==============================] - 127s 397ms/step - loss: 0.0985 - accuracy: 0.9712 - val_loss: 0.0528 - val_accuracy: 0.9840\n",
      "Epoch 13/20\n",
      "320/320 [==============================] - 139s 435ms/step - loss: 0.0906 - accuracy: 0.9735 - val_loss: 0.0506 - val_accuracy: 0.9847\n",
      "Epoch 14/20\n",
      "320/320 [==============================] - 125s 392ms/step - loss: 0.0868 - accuracy: 0.9745 - val_loss: 0.0538 - val_accuracy: 0.9835\n",
      "Epoch 15/20\n",
      "320/320 [==============================] - 127s 396ms/step - loss: 0.0853 - accuracy: 0.9762 - val_loss: 0.0707 - val_accuracy: 0.9755\n",
      "Epoch 16/20\n",
      "320/320 [==============================] - 138s 432ms/step - loss: 0.0768 - accuracy: 0.9772 - val_loss: 0.0497 - val_accuracy: 0.9820\n",
      "Epoch 17/20\n",
      "320/320 [==============================] - 136s 424ms/step - loss: 0.0758 - accuracy: 0.9774 - val_loss: 0.0432 - val_accuracy: 0.9877\n",
      "Epoch 18/20\n",
      "320/320 [==============================] - 132s 412ms/step - loss: 0.0739 - accuracy: 0.9779 - val_loss: 0.0404 - val_accuracy: 0.9898\n",
      "Epoch 19/20\n",
      "320/320 [==============================] - 135s 422ms/step - loss: 0.0672 - accuracy: 0.9801 - val_loss: 0.0396 - val_accuracy: 0.9875\n",
      "Epoch 20/20\n",
      "320/320 [==============================] - 128s 400ms/step - loss: 0.0699 - accuracy: 0.9799 - val_loss: 0.0368 - val_accuracy: 0.9872\n",
      "4000/4000 [==============================] - 1s 203us/sample - loss: 0.0421 - accuracy: 0.9860\n",
      "Accuracy: 98.60%\n"
     ]
    }
   ],
   "source": [
    "#Compile and train the model\n",
    "model.compile(loss=tf.keras.losses.categorical_crossentropy, optimizer='adam', metrics=['accuracy'])\n",
    "history = model.fit(datagen.flow(x_train, y_train, batch_size=100), validation_data=(x_validate, y_validate), epochs=20, shuffle=True)\n",
    "scores = model.evaluate(x_test, y_test)\n",
    "print(\"Accuracy: %.2f%%\" %(scores[1]*100))"
   ]
  },
  {
   "cell_type": "code",
   "execution_count": null,
   "metadata": {},
   "outputs": [],
   "source": []
  }
 ],
 "metadata": {
  "kernelspec": {
   "display_name": "py37-tf2",
   "language": "python",
   "name": "py37-tf2"
  },
  "language_info": {
   "codemirror_mode": {
    "name": "ipython",
    "version": 3
   },
   "file_extension": ".py",
   "mimetype": "text/x-python",
   "name": "python",
   "nbconvert_exporter": "python",
   "pygments_lexer": "ipython3",
   "version": "3.7.6"
  }
 },
 "nbformat": 4,
 "nbformat_minor": 2
}
